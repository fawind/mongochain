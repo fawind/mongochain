{
 "cells": [
  {
   "cell_type": "code",
   "execution_count": 118,
   "metadata": {
    "collapsed": false
   },
   "outputs": [
    {
     "name": "stdout",
     "output_type": "stream",
     "text": [
      "Populating the interactive namespace from numpy and matplotlib\n"
     ]
    },
    {
     "name": "stderr",
     "output_type": "stream",
     "text": [
      "C:\\Users\\NilsStrelow\\projects\\uni\\bc\\mongochain\\benchmarks\\venv\\lib\\site-packages\\IPython\\core\\magics\\pylab.py:160: UserWarning: pylab import has clobbered these variables: ['median', 'mean']\n`%matplotlib` prevents importing * from pylab and numpy\n  \"\\n`%matplotlib` prevents importing * from pylab and numpy\"\n"
     ]
    }
   ],
   "source": [
    "%pylab inline\n",
    "from parse_logs import build_df\n",
    "import matplotlib.pyplot as plt\n",
    "import numpy as np\n",
    "import dateutil\n",
    "plt.style.use('dark_background')\n",
    "#plt.style.use('ggplot')\n",
    "\n",
    "\n",
    "def print_groupby(groupby):\n",
    "    for name, group in groupby:\n",
    "        print('name: ' + str(name))\n",
    "        print('group: ' + str(group))\n",
    "        print('\\n')"
   ]
  },
  {
   "cell_type": "heading",
   "metadata": {
    "collapsed": true
   },
   "level": 1,
   "source": [
    "Calculate Elastico consensus time using CLIENT_NEW_TRANSACTION as start and CLIENT_INTEGRATE_GLOBAL_RESULT as end point"
   ]
  },
  {
   "cell_type": "code",
   "execution_count": 119,
   "metadata": {
    "collapsed": true
   },
   "outputs": [
    {
     "data": {
      "text/plain": [
       "0    0.85\n1    0.85\nName: duration, dtype: float64"
      ]
     },
     "execution_count": 119,
     "metadata": {},
     "output_type": "execute_result"
    }
   ],
   "source": [
    "df = build_df('22nodes.log')\n",
    "df['timestamp'] = [dateutil.parser.parse(x) for x in df['timestamp']]\n",
    "consensus_df = df[(df.event_type == 'CLIENT_NEW_TRANSACTION') | (df.event_type == 'CLIENT_INTEGRATE_GLOBAL_RESULT')]\n",
    "consensus_df = consensus_df.astype({\n",
    "    'community_id': 'int',\n",
    "    'content_hash': 'str',\n",
    "    'event_type': 'str',\n",
    "    'node_id': 'str',\n",
    "    'node_type': 'str',\n",
    "    'sequence_number': 'str',\n",
    "    'timestamp': 'datetime64[ns]'})\n",
    "consensus_time_group = consensus_df \\\n",
    "    .groupby(['content_hash', 'node_id', 'event_type'], as_index=True).agg({'timestamp': np.max})\\\n",
    "    .groupby(['content_hash', 'node_id'], as_index=True).timestamp\n",
    "consensus_time = consensus_time_group \\\n",
    "    .diff() \\\n",
    "    .abs() \\\n",
    "    .dropna() \\\n",
    "    .reset_index()['timestamp'] \\\n",
    "    .rename('duration') \\\n",
    "    .apply(lambda x: x.total_seconds())\n",
    "consensus_time\n"
   ]
  },
  {
   "cell_type": "markdown",
   "metadata": {},
   "source": [
    "Plot consensus time"
   ]
  },
  {
   "cell_type": "code",
   "execution_count": 117,
   "metadata": {},
   "outputs": [
    {
     "name": "stdout",
     "output_type": "stream",
     "text": [
      "Mean : 0.8500000000000001\nMedian : 0.8500000000000001\n"
     ]
    },
    {
     "data": {
      "text/plain": [
       "<matplotlib.legend.Legend at 0x1e3de414eb8>"
      ]
     },
     "execution_count": 117,
     "metadata": {},
     "output_type": "execute_result"
    },
    {
     "data": {
      "image/png": "[encoded data removed]",
      "text/plain": [
       "<matplotlib.figure.Figure at 0x1e3de378ef0>"
      ]
     },
     "metadata": {},
     "output_type": "display_data"
    }
   ],
   "source": [
    "consensus_plot = consensus_time.plot(lw=2, marker='.', markersize=10, title='Time per consensus')\n",
    "mean = consensus_time.mean()\n",
    "median = consensus_time.median()\n",
    "print(\"Mean : {0}\".format(mean))\n",
    "print(\"Median : {0}\".format(median))\n",
    "consensus_plot.axhline(median, color='m', linestyle='dashed', label='median')\n",
    "consensus_plot.axhline(mean, color='g', linestyle='dashed', label='mean')\n",
    "consensus_plot.set_ylabel('Time in seconds')\n",
    "consensus_plot.set_xlabel('Sequence number')\n",
    "consensus_plot.set_xticks(range(consensus_time.size))\n",
    "consensus_plot.legend()"
   ]
  },
  {
   "cell_type": "code",
   "execution_count": null,
   "metadata": {},
   "outputs": [],
   "source": []
  }
 ],
 "metadata": {
  "kernelspec": {
   "display_name": "Python 2",
   "language": "python",
   "name": "python2"
  },
  "language_info": {
   "codemirror_mode": {
    "name": "ipython",
    "version": 2
   },
   "file_extension": ".py",
   "mimetype": "text/x-python",
   "name": "python",
   "nbconvert_exporter": "python",
   "pygments_lexer": "ipython2",
   "version": "2.7.6"
  }
 },
 "nbformat": 4,
 "nbformat_minor": 0
}
