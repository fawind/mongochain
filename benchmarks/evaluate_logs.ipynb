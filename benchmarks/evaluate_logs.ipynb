{
 "cells": [
  {
   "cell_type": "code",
   "execution_count": null,
   "metadata": {
    "collapsed": false,
    "deletable": true,
    "editable": true
   },
   "outputs": [],
   "source": [
    "%pylab inline\n",
    "from parse_logs import build_df\n",
    "import matplotlib.pyplot as plt\n",
    "import numpy as np\n",
    "import dateutil\n",
    "import pandas as pd\n",
    "\n",
    "\n",
    "def print_groupby(groupby):\n",
    "    for name, group in groupby:\n",
    "        print('name: ' + str(name))\n",
    "        print('group: ' + str(group))\n",
    "        print('\\n')"
   ]
  },
  {
   "cell_type": "code",
   "execution_count": null,
   "metadata": {
    "collapsed": false,
    "deletable": true,
    "editable": true
   },
   "outputs": [],
   "source": [
    "df = build_df('./logs/final/200n-f0-50c-160puts.log')\n",
    "df['timestamp'] = [dateutil.parser.parse(x) for x in df['timestamp']]"
   ]
  },
  {
   "cell_type": "code",
   "execution_count": null,
   "metadata": {
    "collapsed": true,
    "deletable": true,
    "editable": true
   },
   "outputs": [],
   "source": [
    "start_df = df[df.event_type == 'CLIENT_NEW_TRANSACTION']\n",
    "group_start = start_df.groupby(['content_hash'], as_index=False).agg({'timestamp': np.min})"
   ]
  },
  {
   "cell_type": "code",
   "execution_count": null,
   "metadata": {
    "collapsed": false,
    "deletable": true,
    "editable": true,
    "scrolled": true
   },
   "outputs": [],
   "source": [
    "end_df = df[df.event_type == 'CLIENT_INTEGRATE_GLOBAL_RESULT']\n",
    "group_end = end_df.groupby(['content_hash'], as_index=False).agg({'timestamp': np.max})"
   ]
  },
  {
   "cell_type": "code",
   "execution_count": null,
   "metadata": {
    "collapsed": false,
    "deletable": true,
    "editable": true,
    "scrolled": true
   },
   "outputs": [],
   "source": [
    "joined = pd.merge(group_end, group_start, on='content_hash')"
   ]
  },
  {
   "cell_type": "code",
   "execution_count": null,
   "metadata": {
    "collapsed": false,
    "deletable": true,
    "editable": true,
    "scrolled": true
   },
   "outputs": [],
   "source": [
    "diff = (joined['timestamp_x'] - joined['timestamp_y']).apply(lambda x: x.total_seconds()).rename('duration')\n",
    "diff.head(3)"
   ]
  },
  {
   "cell_type": "code",
   "execution_count": null,
   "metadata": {
    "collapsed": false,
    "deletable": true,
    "editable": true,
    "scrolled": true
   },
   "outputs": [],
   "source": [
    "plt.style.use('bmh')\n",
    "consensus_plot = diff.plot(lw=2, marker='.', markersize=10, title='Time per consensus', figsize=(20, 5))\n",
    "mean = diff.mean()\n",
    "median = diff.median()\n",
    "print(\"Mean : {0}\".format(mean))\n",
    "print(\"Median : {0}\".format(median))\n",
    "consensus_plot.axhline(median, color='m', linestyle='dashed', label='median')\n",
    "consensus_plot.axhline(mean, color='g', linestyle='dashed', label='mean')\n",
    "consensus_plot.set_ylabel('Time in seconds')\n",
    "consensus_plot.set_xlabel('Sequence number')\n",
    "consensus_plot.set_xticks(range(diff.size))\n",
    "l = consensus_plot.legend()\n",
    "for t in l.get_texts():\n",
    "    t.set_color('black')"
   ]
  }
 ],
 "metadata": {
  "kernelspec": {
   "display_name": "Python 3",
   "language": "python",
   "name": "python3"
  },
  "language_info": {
   "codemirror_mode": {
    "name": "ipython",
    "version": 3
   },
   "file_extension": ".py",
   "mimetype": "text/x-python",
   "name": "python",
   "nbconvert_exporter": "python",
   "pygments_lexer": "ipython3",
   "version": "3.6.4"
  }
 },
 "nbformat": 4,
 "nbformat_minor": 0
}
